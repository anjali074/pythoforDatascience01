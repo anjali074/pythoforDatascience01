{
 "cells": [
  {
   "cell_type": "markdown",
   "id": "a0154992-8332-4afd-b6f0-8f654bda317c",
   "metadata": {},
   "source": [
    "# Lecture -2 "
   ]
  },
  {
   "cell_type": "markdown",
   "id": "968973fe-a9af-401e-9b17-7ef3deeb23d2",
   "metadata": {},
   "source": [
    "# Variable & Data Type in python\n"
   ]
  },
  {
   "cell_type": "markdown",
   "id": "c8d0c348-75e3-4950-ac09-6f1b6b247678",
   "metadata": {},
   "source": [
    "# creating a variable "
   ]
  },
  {
   "cell_type": "code",
   "execution_count": 1,
   "id": "0f56d395-44e1-4567-9966-07a81587f23f",
   "metadata": {},
   "outputs": [
    {
     "name": "stdout",
     "output_type": "stream",
     "text": [
      "5\n"
     ]
    }
   ],
   "source": [
    "x=5\n",
    "print(x)"
   ]
  },
  {
   "cell_type": "code",
   "execution_count": 5,
   "id": "02fca6d0-5ee4-4a07-b401-7ccc786cdbf5",
   "metadata": {},
   "outputs": [
    {
     "name": "stdout",
     "output_type": "stream",
     "text": [
      "10 5 anjali\n"
     ]
    }
   ],
   "source": [
    "a=10\n",
    "b=5\n",
    "d=2.5\n",
    "c=\"anjali\"\n",
    "print(a,b,c)"
   ]
  },
  {
   "cell_type": "code",
   "execution_count": 6,
   "id": "12c98bce-f121-42bd-ac55-3799072cb745",
   "metadata": {},
   "outputs": [
    {
     "name": "stdout",
     "output_type": "stream",
     "text": [
      " we are learning \n"
     ]
    }
   ],
   "source": [
    "y= \" we are learning \"\n",
    "print(y)"
   ]
  },
  {
   "cell_type": "code",
   "execution_count": 7,
   "id": "94f5f461-fdfe-4fc4-9f2a-59aa0bf15d24",
   "metadata": {},
   "outputs": [
    {
     "name": "stdout",
     "output_type": "stream",
     "text": [
      "Variable   Type     Data/Info\n",
      "-----------------------------\n",
      "a          int      10\n",
      "b          int      5\n",
      "c          str      anjali\n",
      "d          float    2.5\n",
      "x          int      5\n",
      "y          str       we are learning \n"
     ]
    }
   ],
   "source": [
    "%whos"
   ]
  },
  {
   "cell_type": "markdown",
   "id": "29a99595-e58d-4387-a238-83dcc504a6b0",
   "metadata": {},
   "source": [
    "# A variable name must start with a letter or the underscore character"
   ]
  },
  {
   "cell_type": "markdown",
   "id": "6db79e3b-d13e-4293-8bf9-5c49f0cde17f",
   "metadata": {},
   "source": [
    "# rule 1"
   ]
  },
  {
   "cell_type": "code",
   "execution_count": 8,
   "id": "a59360eb-887d-4c3e-9f82-1b6c76a567d0",
   "metadata": {},
   "outputs": [
    {
     "name": "stdout",
     "output_type": "stream",
     "text": [
      "23\n"
     ]
    }
   ],
   "source": [
    "apple=23\n",
    "print(apple)"
   ]
  },
  {
   "cell_type": "code",
   "execution_count": 9,
   "id": "1513049c-42b3-4375-856f-a3f476cd62ed",
   "metadata": {},
   "outputs": [
    {
     "name": "stdout",
     "output_type": "stream",
     "text": [
      "2.4\n"
     ]
    }
   ],
   "source": [
    "apple_box=2.4\n",
    "print(apple_box)\n"
   ]
  },
  {
   "cell_type": "code",
   "execution_count": 11,
   "id": "b7ad98eb-96cd-4ceb-a159-ec4e58c202f9",
   "metadata": {},
   "outputs": [
    {
     "name": "stdout",
     "output_type": "stream",
     "text": [
      "5\n"
     ]
    }
   ],
   "source": [
    "_=5\n",
    "print(_)"
   ]
  },
  {
   "cell_type": "code",
   "execution_count": 12,
   "id": "b1443236-ea3a-4318-8134-69553b67dc27",
   "metadata": {},
   "outputs": [
    {
     "name": "stdout",
     "output_type": "stream",
     "text": [
      "9\n"
     ]
    }
   ],
   "source": [
    "_a=9\n",
    "print(_a)"
   ]
  },
  {
   "cell_type": "code",
   "execution_count": 13,
   "id": "5de329aa-b633-4fb4-9847-11133ca6b9a2",
   "metadata": {},
   "outputs": [
    {
     "name": "stdout",
     "output_type": "stream",
     "text": [
      "2\n"
     ]
    }
   ],
   "source": [
    "mnp_=2\n",
    "print(mnp_)"
   ]
  },
  {
   "cell_type": "markdown",
   "id": "5fc99217-d372-4d20-b076-6742dd8125c7",
   "metadata": {},
   "source": [
    "# A variable name cannot start with a number"
   ]
  },
  {
   "cell_type": "code",
   "execution_count": null,
   "id": "a11a4395-9f72-4ac9-b49f-a47ea2009b40",
   "metadata": {
    "jp-MarkdownHeadingCollapsed": true
   },
   "outputs": [],
   "source": [
    "# rule 2\n",
    "1=23\n",
    "print(1)"
   ]
  },
  {
   "cell_type": "code",
   "execution_count": 15,
   "id": "81f245f6-1f0c-4d34-89c5-66049947433f",
   "metadata": {},
   "outputs": [
    {
     "name": "stdout",
     "output_type": "stream",
     "text": [
      "1\n"
     ]
    }
   ],
   "source": [
    "1==23\n",
    "print(1)"
   ]
  },
  {
   "cell_type": "code",
   "execution_count": 16,
   "id": "f64b0ee2-97be-4852-bdd7-8c510e2f9575",
   "metadata": {},
   "outputs": [
    {
     "ename": "SyntaxError",
     "evalue": "invalid decimal literal (4113923688.py, line 1)",
     "output_type": "error",
     "traceback": [
      "\u001b[1;36m  Cell \u001b[1;32mIn[16], line 1\u001b[1;36m\u001b[0m\n\u001b[1;33m    1_apple=123\u001b[0m\n\u001b[1;37m     ^\u001b[0m\n\u001b[1;31mSyntaxError\u001b[0m\u001b[1;31m:\u001b[0m invalid decimal literal\n"
     ]
    }
   ],
   "source": [
    "1_apple=123\n",
    "print(1_apple)"
   ]
  },
  {
   "cell_type": "code",
   "execution_count": 17,
   "id": "f6ae78f0-5cb0-48c2-bbc1-bab23ad770a8",
   "metadata": {},
   "outputs": [
    {
     "name": "stdout",
     "output_type": "stream",
     "text": [
      "89\n"
     ]
    }
   ],
   "source": [
    "apple_1=89\n",
    "print(apple_1)"
   ]
  },
  {
   "cell_type": "markdown",
   "id": "292b5e70-0a45-4717-866e-6a4cd56dde93",
   "metadata": {
    "jp-MarkdownHeadingCollapsed": true
   },
   "source": [
    "# rule 3 "
   ]
  },
  {
   "cell_type": "markdown",
   "id": "02171edc-8057-4b54-8c63-74445e31e74f",
   "metadata": {},
   "source": [
    "# A variable name can only contain alpha-numeric characters and underscores (A-z, 0-9, and) "
   ]
  },
  {
   "cell_type": "code",
   "execution_count": 20,
   "id": "d22895da-6c3a-4d39-b166-1a50bc0e0363",
   "metadata": {},
   "outputs": [
    {
     "name": "stdout",
     "output_type": "stream",
     "text": [
      "123\n"
     ]
    }
   ],
   "source": [
    "abc123nmp=123\n",
    "print(abc123nmp)"
   ]
  },
  {
   "cell_type": "code",
   "execution_count": 21,
   "id": "39031a38-253a-4303-95b9-f39d2ffd488b",
   "metadata": {},
   "outputs": [
    {
     "ename": "SyntaxError",
     "evalue": "invalid syntax (1547375292.py, line 1)",
     "output_type": "error",
     "traceback": [
      "\u001b[1;36m  Cell \u001b[1;32mIn[21], line 1\u001b[1;36m\u001b[0m\n\u001b[1;33m    &$@=123\u001b[0m\n\u001b[1;37m    ^\u001b[0m\n\u001b[1;31mSyntaxError\u001b[0m\u001b[1;31m:\u001b[0m invalid syntax\n"
     ]
    }
   ],
   "source": [
    "&$@=123\n",
    "prit(&$@)#only appicable  is _"
   ]
  },
  {
   "cell_type": "markdown",
   "id": "6c61530a-b23a-4d31-ad32-4243e2b9cde0",
   "metadata": {},
   "source": [
    "# Variable names are case-sensitive (age, Age and AGE are three different variables)"
   ]
  },
  {
   "cell_type": "markdown",
   "id": "6a049ced-f146-4176-8cbf-ffbf77175b71",
   "metadata": {},
   "source": [
    " # rule 4"
   ]
  },
  {
   "cell_type": "code",
   "execution_count": 22,
   "id": "6bdbc736-b635-4706-abdd-d9319bd329f6",
   "metadata": {},
   "outputs": [
    {
     "name": "stdout",
     "output_type": "stream",
     "text": [
      "123\n"
     ]
    }
   ],
   "source": [
    "age=123\n",
    "print(age)"
   ]
  },
  {
   "cell_type": "code",
   "execution_count": 23,
   "id": "167a95bf-61fb-4901-ab87-84509169c723",
   "metadata": {},
   "outputs": [
    {
     "name": "stdout",
     "output_type": "stream",
     "text": [
      "123\n"
     ]
    }
   ],
   "source": [
    "Age=123\n",
    "print(Age)"
   ]
  },
  {
   "cell_type": "markdown",
   "id": "6d71dcbc-8aae-4ed5-84af-d4ce3bef3ca6",
   "metadata": {},
   "source": []
  },
  {
   "cell_type": "code",
   "execution_count": 27,
   "id": "5f095dc0-a9a5-487f-b40e-a626aea76c2a",
   "metadata": {},
   "outputs": [
    {
     "name": "stdout",
     "output_type": "stream",
     "text": [
      "123\n"
     ]
    }
   ],
   "source": [
    "AGE=123\n",
    "print(AGE)"
   ]
  },
  {
   "cell_type": "code",
   "execution_count": 28,
   "id": "169befde-3f62-4e25-bcfa-884af17c7303",
   "metadata": {},
   "outputs": [
    {
     "name": "stdout",
     "output_type": "stream",
     "text": [
      "12\n"
     ]
    }
   ],
   "source": [
    "age=12\n",
    "Age=13\n",
    "AGE=15\n",
    "print(age)"
   ]
  },
  {
   "cell_type": "markdown",
   "id": "d69990a0-8e23-4de6-b7a7-7a93e20df594",
   "metadata": {},
   "source": [
    "# Data type in python"
   ]
  },
  {
   "cell_type": "code",
   "execution_count": 29,
   "id": "f7d3b0ef-fd3d-4d24-a4b7-9093437110ec",
   "metadata": {},
   "outputs": [
    {
     "name": "stdout",
     "output_type": "stream",
     "text": [
      "2\n",
      "<class 'int'>\n"
     ]
    },
    {
     "data": {
      "text/plain": [
       "float"
      ]
     },
     "execution_count": 29,
     "metadata": {},
     "output_type": "execute_result"
    }
   ],
   "source": [
    "a=2\n",
    "b=1.5\n",
    "c=\"my name is anjali\"\n",
    "print(a)\n",
    "print(type(a))\n",
    "type(b)"
   ]
  },
  {
   "cell_type": "code",
   "execution_count": 31,
   "id": "6ac3f2b5-7c6a-4009-adf0-4494f4facd2f",
   "metadata": {},
   "outputs": [
    {
     "name": "stdout",
     "output_type": "stream",
     "text": [
      "<class 'complex'>\n",
      "(2+3j)\n"
     ]
    }
   ],
   "source": [
    "v=2+3j\n",
    "print(type(v))\n",
    "print(v)"
   ]
  },
  {
   "cell_type": "code",
   "execution_count": 35,
   "id": "ac67e055-c63b-4aa9-b3fe-9e5a5c6d75b1",
   "metadata": {},
   "outputs": [
    {
     "name": "stdout",
     "output_type": "stream",
     "text": [
      "[23, 24, 25, 26]\n",
      "<class 'list'>\n",
      "{24, 21, 87, 23}\n"
     ]
    },
    {
     "data": {
      "text/plain": [
       "set"
      ]
     },
     "execution_count": 35,
     "metadata": {},
     "output_type": "execute_result"
    }
   ],
   "source": [
    "num=[23,24,25,26]\n",
    "print(num)\n",
    "print(type(num))\n",
    "num1={21,87,23,24}\n",
    "print(num1)\n",
    "type(num1)\n"
   ]
  },
  {
   "cell_type": "markdown",
   "id": "a78bfbd0-cae8-46c3-b426-68979bd6ae0f",
   "metadata": {},
   "source": [
    "# bollen dta "
   ]
  },
  {
   "cell_type": "code",
   "execution_count": 39,
   "id": "9599764b-edd2-4611-be5d-e95f08b82882",
   "metadata": {},
   "outputs": [
    {
     "ename": "SyntaxError",
     "evalue": "incomplete input (1466744910.py, line 5)",
     "output_type": "error",
     "traceback": [
      "\u001b[1;36m  Cell \u001b[1;32mIn[39], line 5\u001b[1;36m\u001b[0m\n\u001b[1;33m    print(type(nu2)\u001b[0m\n\u001b[1;37m                   ^\u001b[0m\n\u001b[1;31mSyntaxError\u001b[0m\u001b[1;31m:\u001b[0m incomplete input\n"
     ]
    }
   ],
   "source": [
    "num3=True\n",
    "print(num3)\n",
    "print(type(num3))\n"
   ]
  },
  {
   "cell_type": "markdown",
   "id": "b5d2f12f-1f6e-4fb7-89a4-b4980923a149",
   "metadata": {},
   "source": []
  },
  {
   "cell_type": "markdown",
   "id": "4ecc36fb-320c-4cfd-b913-3913cd0b79ba",
   "metadata": {},
   "source": [
    "# A variable name cannot be any of the Python keywords.\n",
    "# rule 5"
   ]
  },
  {
   "cell_type": "code",
   "execution_count": 40,
   "id": "26787f61-67da-4992-a926-b42c01edf276",
   "metadata": {},
   "outputs": [
    {
     "ename": "TypeError",
     "evalue": "'int' object is not callable",
     "output_type": "error",
     "traceback": [
      "\u001b[1;31m---------------------------------------------------------------------------\u001b[0m",
      "\u001b[1;31mTypeError\u001b[0m                                 Traceback (most recent call last)",
      "Cell \u001b[1;32mIn[40], line 2\u001b[0m\n\u001b[0;32m      1\u001b[0m \u001b[38;5;28mprint\u001b[39m\u001b[38;5;241m=\u001b[39m\u001b[38;5;241m14\u001b[39m\n\u001b[1;32m----> 2\u001b[0m \u001b[38;5;28mprint\u001b[39m(\u001b[38;5;28mprint\u001b[39m)\n",
      "\u001b[1;31mTypeError\u001b[0m: 'int' object is not callable"
     ]
    }
   ],
   "source": [
    "print=14\n",
    "print(print)"
   ]
  },
  {
   "cell_type": "code",
   "execution_count": 41,
   "id": "87d1f6dd-e5f4-429c-bd41-d5e7c2ec69e7",
   "metadata": {},
   "outputs": [
    {
     "ename": "TypeError",
     "evalue": "'int' object is not callable",
     "output_type": "error",
     "traceback": [
      "\u001b[1;31m---------------------------------------------------------------------------\u001b[0m",
      "\u001b[1;31mTypeError\u001b[0m                                 Traceback (most recent call last)",
      "Cell \u001b[1;32mIn[41], line 2\u001b[0m\n\u001b[0;32m      1\u001b[0m \u001b[38;5;28mint\u001b[39m\u001b[38;5;241m=\u001b[39m\u001b[38;5;241m2\u001b[39m\n\u001b[1;32m----> 2\u001b[0m \u001b[38;5;28mprint\u001b[39m(\u001b[38;5;28mint\u001b[39m)\n",
      "\u001b[1;31mTypeError\u001b[0m: 'int' object is not callable"
     ]
    }
   ],
   "source": [
    "int=2\n",
    "print(int)"
   ]
  },
  {
   "cell_type": "code",
   "execution_count": null,
   "id": "e026c25c-519d-4eb7-a9cb-1184298eb6da",
   "metadata": {},
   "outputs": [],
   "source": []
  }
 ],
 "metadata": {
  "kernelspec": {
   "display_name": "base",
   "language": "python",
   "name": "python3"
  },
  "language_info": {
   "codemirror_mode": {
    "name": "ipython",
    "version": 3
   },
   "file_extension": ".py",
   "mimetype": "text/x-python",
   "name": "python",
   "nbconvert_exporter": "python",
   "pygments_lexer": "ipython3",
   "version": "3.12.7"
  }
 },
 "nbformat": 4,
 "nbformat_minor": 5
}
