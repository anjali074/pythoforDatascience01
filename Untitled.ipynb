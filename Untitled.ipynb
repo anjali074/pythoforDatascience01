{
 "cells": [
  {
   "cell_type": "markdown",
   "id": "bcfd62c1-ec87-43d3-a75b-04d42083e1ef",
   "metadata": {},
   "source": [
    "this  is my first class "
   ]
  },
  {
   "cell_type": "code",
   "execution_count": 1,
   "id": "f9134fc8-ec5b-490a-9fe9-43448233cc45",
   "metadata": {
    "scrolled": true
   },
   "outputs": [
    {
     "name": "stdout",
     "output_type": "stream",
     "text": [
      "this is my first class\n"
     ]
    }
   ],
   "source": [
    "print (\"this is my first class\")"
   ]
  },
  {
   "cell_type": "markdown",
   "id": "42df7432-8831-4086-b0a0-7bf5d9e83c3f",
   "metadata": {},
   "source": [
    "# this is my first class"
   ]
  },
  {
   "cell_type": "markdown",
   "id": "c68af569-b65b-4b6e-a5b2-7ac75afb949e",
   "metadata": {},
   "source": [
    "# this is my first class"
   ]
  },
  {
   "cell_type": "markdown",
   "id": "ad3de315-e5e7-4226-8b07-32208e5cbf9d",
   "metadata": {},
   "source": [
    "# this is my first class"
   ]
  },
  {
   "cell_type": "code",
   "execution_count": 2,
   "id": "c6b3f445-56d8-4c86-969a-cf9ad1ec25f0",
   "metadata": {},
   "outputs": [
    {
     "name": "stdout",
     "output_type": "stream",
     "text": [
      "5\n"
     ]
    }
   ],
   "source": [
    "print(2+3)"
   ]
  },
  {
   "cell_type": "code",
   "execution_count": 5,
   "id": "ad064545-5947-4a8f-9027-8653e6cebd5c",
   "metadata": {},
   "outputs": [
    {
     "name": "stdout",
     "output_type": "stream",
     "text": [
      "hello world\n"
     ]
    }
   ],
   "source": [
    "print(\"hello world\")"
   ]
  },
  {
   "cell_type": "code",
   "execution_count": 7,
   "id": "f4a1ae3a-830f-492e-9ffd-746720eda4aa",
   "metadata": {},
   "outputs": [
    {
     "name": "stdout",
     "output_type": "stream",
     "text": [
      "anjali\n"
     ]
    }
   ],
   "source": [
    "print(\"anjali\")"
   ]
  },
  {
   "cell_type": "code",
   "execution_count": 6,
   "id": "8e1a05d0-fccd-4634-8696-2ff3edf77bdc",
   "metadata": {},
   "outputs": [
    {
     "name": "stdout",
     "output_type": "stream",
     "text": [
      "anjali\n"
     ]
    }
   ],
   "source": [
    "print(\"anjali\")\n",
    "      "
   ]
  },
  {
   "cell_type": "markdown",
   "id": "773b21d9-b8e8-4d84-846f-24b14e3e3856",
   "metadata": {},
   "source": [
    "# this is about the introduction of eductor\n",
    "print(\"hello i am Anjali\")\n",
    "print('125')\n",
    "print(2+8)\n"
   ]
  },
  {
   "cell_type": "code",
   "execution_count": 8,
   "id": "f6480895-53dc-4205-b4d8-b0021a92a3cc",
   "metadata": {},
   "outputs": [
    {
     "name": "stdout",
     "output_type": "stream",
     "text": [
      "hello i am Anjali\n",
      "125\n",
      "10\n"
     ]
    }
   ],
   "source": [
    "# this is about the introduction of eductor\n",
    "print(\"hello i am Anjali\")\n",
    "print('125')\n",
    "print(2+8)"
   ]
  },
  {
   "cell_type": "code",
   "execution_count": null,
   "id": "74af22b8-82a6-4808-8f5d-e14d6a22e708",
   "metadata": {},
   "outputs": [],
   "source": []
  }
 ],
 "metadata": {
  "kernelspec": {
   "display_name": "Python 3 (ipykernel)",
   "language": "python",
   "name": "python3"
  },
  "language_info": {
   "codemirror_mode": {
    "name": "ipython",
    "version": 3
   },
   "file_extension": ".py",
   "mimetype": "text/x-python",
   "name": "python",
   "nbconvert_exporter": "python",
   "pygments_lexer": "ipython3",
   "version": "3.12.7"
  }
 },
 "nbformat": 4,
 "nbformat_minor": 5
}
