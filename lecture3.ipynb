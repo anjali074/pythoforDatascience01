{
 "cells": [
  {
   "cell_type": "markdown",
   "id": "20636ef4-4253-4d48-a834-ae1c6ca7ceaa",
   "metadata": {},
   "source": [
    "# Lecture 3\n",
    "  # Arithmetic operator \n",
    "  # Adition"
   ]
  },
  {
   "cell_type": "code",
   "execution_count": 40,
   "id": "61c430b3-d371-4885-8772-a6e51828cfc3",
   "metadata": {},
   "outputs": [
    {
     "name": "stdout",
     "output_type": "stream",
     "text": [
      "10\n"
     ]
    }
   ],
   "source": [
    "a=5#integer\n",
    "b=5\n",
    "print(a+b)"
   ]
  },
  {
   "cell_type": "code",
   "execution_count": 41,
   "id": "2dbdf468-a8ef-46a8-8f62-662e9980ab9b",
   "metadata": {},
   "outputs": [
    {
     "name": "stdout",
     "output_type": "stream",
     "text": [
      "11.5\n"
     ]
    }
   ],
   "source": [
    "x=3.6 #float\n",
    "y=7.9\n",
    "print(x+y)"
   ]
  },
  {
   "cell_type": "markdown",
   "id": "a14f7648-e6ab-41eb-97bc-86f8359977d2",
   "metadata": {},
   "source": [
    "\n"
   ]
  },
  {
   "cell_type": "code",
   "execution_count": 42,
   "id": "d3a416b8-cba0-4bab-a6a8-34041056e7ff",
   "metadata": {},
   "outputs": [
    {
     "name": "stdout",
     "output_type": "stream",
     "text": [
      "hello student\n"
     ]
    }
   ],
   "source": [
    "a1 =\"hello\"# string\n",
    "b1=\"student\"\n",
    "c1=a1+\" \" +b1\n",
    "print(c1)"
   ]
  },
  {
   "cell_type": "code",
   "execution_count": 43,
   "id": "eaeddd8e-f1da-45e3-9b1a-4185a1e08338",
   "metadata": {},
   "outputs": [
    {
     "name": "stdout",
     "output_type": "stream",
     "text": [
      "(5+5j)\n"
     ]
    }
   ],
   "source": [
    "x1=2+3j#complex\n",
    "y1=3+2j\n",
    "print(x1+y1)"
   ]
  },
  {
   "cell_type": "code",
   "execution_count": 44,
   "id": "866c8e52-ad59-4abc-9a8d-f0693d2a8c00",
   "metadata": {},
   "outputs": [
    {
     "name": "stdout",
     "output_type": "stream",
     "text": [
      "-15\n"
     ]
    }
   ],
   "source": [
    "w1=-6\n",
    "w2=-9\n",
    "print(w1+w2)"
   ]
  },
  {
   "cell_type": "markdown",
   "id": "c682d7e0-e5da-4b47-a25c-6e66fabf0a66",
   "metadata": {},
   "source": [
    "# substraction operator"
   ]
  },
  {
   "cell_type": "code",
   "execution_count": 45,
   "id": "3a6049e5-e6ba-4481-9274-9b730c63df98",
   "metadata": {},
   "outputs": [
    {
     "name": "stdout",
     "output_type": "stream",
     "text": [
      "(-6+9j)\n"
     ]
    }
   ],
   "source": [
    "a6=5+9j\n",
    "b6=3+8\n",
    "print(a6-b6)"
   ]
  },
  {
   "cell_type": "code",
   "execution_count": 46,
   "id": "ca6b6b4d-42d4-443e-88f2-2734baed2290",
   "metadata": {},
   "outputs": [
    {
     "name": "stdout",
     "output_type": "stream",
     "text": [
      "(12+46j)\n"
     ]
    }
   ],
   "source": [
    "a1=4+2j\n",
    "c1=7+8j\n",
    "print(a1*c1)"
   ]
  },
  {
   "cell_type": "markdown",
   "id": "094751f9-7ed7-4a7a-9fde-c850a5db81f6",
   "metadata": {},
   "source": [
    "# Division"
   ]
  },
  {
   "cell_type": "code",
   "execution_count": 47,
   "id": "5832ac65-5580-4010-bc8d-cdfb6fd8954e",
   "metadata": {},
   "outputs": [
    {
     "name": "stdout",
     "output_type": "stream",
     "text": [
      "2.4\n"
     ]
    }
   ],
   "source": [
    "a=12\n",
    "b=5\n",
    "print(a/b)"
   ]
  },
  {
   "cell_type": "code",
   "execution_count": 48,
   "id": "b8a8e3b6-a306-4099-abeb-8004355d1f82",
   "metadata": {},
   "outputs": [
    {
     "name": "stdout",
     "output_type": "stream",
     "text": [
      "9.678149680593673\n"
     ]
    }
   ],
   "source": [
    "a1=56.8879789698707097\n",
    "b1=5.87798090\n",
    "print(a1/b1)"
   ]
  },
  {
   "cell_type": "code",
   "execution_count": 50,
   "id": "c4dbe3db-3294-4e2d-b990-c504755f5d54",
   "metadata": {},
   "outputs": [
    {
     "name": "stdout",
     "output_type": "stream",
     "text": [
      "6.868970879\n"
     ]
    }
   ],
   "source": [
    "a1=6.868970879\n",
    "b1=7.868969780\n",
    "print(a1%b1)"
   ]
  },
  {
   "cell_type": "code",
   "execution_count": 51,
   "id": "5931f959-1a8e-4e3f-8079-3e3230afb295",
   "metadata": {},
   "outputs": [
    {
     "name": "stdout",
     "output_type": "stream",
     "text": [
      "(0.45132743362831856+0.23008849557522124j)\n"
     ]
    }
   ],
   "source": [
    "a2=2+5j\n",
    "b3=8+7j\n",
    "print(a2/b3)"
   ]
  },
  {
   "cell_type": "code",
   "execution_count": 55,
   "id": "55547b37-c0bb-4770-b5a4-616f23e715f5",
   "metadata": {},
   "outputs": [
    {
     "ename": "TypeError",
     "evalue": "unsupported operand type(s) for %: 'complex' and 'complex'",
     "output_type": "error",
     "traceback": [
      "\u001b[1;31m--------------------------------------------------\u001b[0m",
      "\u001b[1;31mTypeError\u001b[0m        Traceback (most recent call last)",
      "Cell \u001b[1;32mIn[55], line 3\u001b[0m\n\u001b[0;32m      1\u001b[0m a2\u001b[38;5;241m=\u001b[39m\u001b[38;5;241m6\u001b[39m\u001b[38;5;241m+\u001b[39m\u001b[38;5;241m4\u001b[39mj\n\u001b[0;32m      2\u001b[0m b2\u001b[38;5;241m=\u001b[39m\u001b[38;5;241m7\u001b[39m\u001b[38;5;241m+\u001b[39m\u001b[38;5;241m8\u001b[39mj\n\u001b[1;32m----> 3\u001b[0m \u001b[38;5;28mprint\u001b[39m(a2\u001b[38;5;241m%\u001b[39mb2)\n",
      "\u001b[1;31mTypeError\u001b[0m: unsupported operand type(s) for %: 'complex' and 'complex'"
     ]
    }
   ],
   "source": [
    "a2=6+4j\n",
    "b2=7+8j\n",
    "print(a2%b2)"
   ]
  },
  {
   "cell_type": "markdown",
   "id": "448c494d-d05e-4fe6-bf46-08352d81479a",
   "metadata": {},
   "source": [
    "# not equal to!="
   ]
  },
  {
   "cell_type": "code",
   "execution_count": null,
   "id": "05fd0fc1-d4fe-4aa8-991e-6e03810f03e2",
   "metadata": {},
   "outputs": [],
   "source": [
    "x=5\n",
    "y=3\n",
    "print(x!=y)"
   ]
  },
  {
   "cell_type": "code",
   "execution_count": 56,
   "id": "bf46e2b9-bc8b-447b-a6a4-1ce1c3e727b6",
   "metadata": {},
   "outputs": [
    {
     "name": "stdout",
     "output_type": "stream",
     "text": [
      "True\n"
     ]
    }
   ],
   "source": [
    "x=6\n",
    "y=5\n",
    "print(x!=y)"
   ]
  },
  {
   "cell_type": "markdown",
   "id": "d0b11b07-d24e-4526-a595-7ebac47067ab",
   "metadata": {},
   "source": [
    "# greater than >"
   ]
  },
  {
   "cell_type": "code",
   "execution_count": 57,
   "id": "57c12ba8-df42-40b4-956e-dd2d0f3da9a2",
   "metadata": {},
   "outputs": [
    {
     "name": "stdout",
     "output_type": "stream",
     "text": [
      "True\n"
     ]
    }
   ],
   "source": [
    "x=5\n",
    "y=3\n",
    "print(x>y)"
   ]
  },
  {
   "cell_type": "code",
   "execution_count": null,
   "id": "454bf9ca-27f2-4d62-b6cb-c76b93149b65",
   "metadata": {},
   "outputs": [],
   "source": []
  },
  {
   "cell_type": "code",
   "execution_count": null,
   "id": "eb8963bb-6b53-496a-b33b-06db26606730",
   "metadata": {},
   "outputs": [],
   "source": []
  }
 ],
 "metadata": {
  "kernelspec": {
   "display_name": "Python 3 (ipykernel)",
   "language": "python",
   "name": "python3"
  },
  "language_info": {
   "codemirror_mode": {
    "name": "ipython",
    "version": 3
   },
   "file_extension": ".py",
   "mimetype": "text/x-python",
   "name": "python",
   "nbconvert_exporter": "python",
   "pygments_lexer": "ipython3",
   "version": "3.12.7"
  }
 },
 "nbformat": 4,
 "nbformat_minor": 5
}
