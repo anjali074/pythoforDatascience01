{
 "cells": [
  {
   "cell_type": "markdown",
   "id": "1beb9d26-9b4c-41fa-82e4-206a7126bc24",
   "metadata": {},
   "source": [
    "# comparistion operator\n",
    "# equal to =="
   ]
  },
  {
   "cell_type": "code",
   "execution_count": 1,
   "id": "f249e909-6f2b-4626-b1ac-e077520fa0b1",
   "metadata": {},
   "outputs": [
    {
     "name": "stdout",
     "output_type": "stream",
     "text": [
      "True\n"
     ]
    }
   ],
   "source": [
    "x=5\n",
    "y=5\n",
    "print(x==y)"
   ]
  },
  {
   "cell_type": "markdown",
   "id": "d128f2a4-ef13-4b27-a551-64323ef77c21",
   "metadata": {},
   "source": [
    "# not equal to !="
   ]
  },
  {
   "cell_type": "code",
   "execution_count": 2,
   "id": "7d6a6579-4dd7-41fa-86d2-727902fc3953",
   "metadata": {},
   "outputs": [
    {
     "name": "stdout",
     "output_type": "stream",
     "text": [
      "True\n"
     ]
    }
   ],
   "source": [
    "x=6\n",
    "y=7\n",
    "print(x!=y)"
   ]
  },
  {
   "cell_type": "markdown",
   "id": "9ec6f364-ac2c-493d-908c-c35be9470c3c",
   "metadata": {},
   "source": [
    "# greatre than >"
   ]
  },
  {
   "cell_type": "code",
   "execution_count": 3,
   "id": "9caaaa33-91f8-44c1-830e-ea26f0463839",
   "metadata": {},
   "outputs": [
    {
     "name": "stdout",
     "output_type": "stream",
     "text": [
      "False\n"
     ]
    }
   ],
   "source": [
    "x=89\n",
    "y=98\n",
    "print(x>y)"
   ]
  },
  {
   "cell_type": "markdown",
   "id": "756cb09e-bbc3-4423-b491-430427db067c",
   "metadata": {},
   "source": [
    "# less than <"
   ]
  },
  {
   "cell_type": "code",
   "execution_count": 4,
   "id": "15b555db-090b-4b53-8158-5a3f5485f66b",
   "metadata": {},
   "outputs": [
    {
     "name": "stdout",
     "output_type": "stream",
     "text": [
      "True\n"
     ]
    }
   ],
   "source": [
    "print(56<87)"
   ]
  },
  {
   "cell_type": "markdown",
   "id": "dbcdff5d-2151-4206-9810-e59671fa5c7b",
   "metadata": {},
   "source": [
    "# grater than >="
   ]
  },
  {
   "cell_type": "code",
   "execution_count": 7,
   "id": "7ff57965-a17a-48af-aca3-dca15052d227",
   "metadata": {},
   "outputs": [
    {
     "name": "stdout",
     "output_type": "stream",
     "text": [
      "False\n"
     ]
    }
   ],
   "source": [
    "x=76\n",
    "y=776\n",
    "print(x>=y)"
   ]
  },
  {
   "cell_type": "markdown",
   "id": "28be5f8a-f552-4d92-974d-d94addf07363",
   "metadata": {},
   "source": [
    "# less than <=\n"
   ]
  },
  {
   "cell_type": "code",
   "execution_count": 6,
   "id": "1dfad8ea-7c65-4f1f-978b-88fb6354e696",
   "metadata": {},
   "outputs": [
    {
     "name": "stdout",
     "output_type": "stream",
     "text": [
      "True\n"
     ]
    }
   ],
   "source": [
    "x=87\n",
    "y=876\n",
    "print(x<=y)"
   ]
  },
  {
   "cell_type": "markdown",
   "id": "73c360fc-5d8a-417c-9cdd-9036efc5a64d",
   "metadata": {},
   "source": [
    "# LOGICAL OPERATOR"
   ]
  },
  {
   "cell_type": "markdown",
   "id": "227feea9-c277-4a44-b885-46da45b5ec4e",
   "metadata": {},
   "source": [
    "# and operator"
   ]
  },
  {
   "cell_type": "code",
   "execution_count": 12,
   "id": "1606782f-ff0b-47a8-9eec-13f88c8fda1d",
   "metadata": {},
   "outputs": [
    {
     "name": "stdout",
     "output_type": "stream",
     "text": [
      "False\n"
     ]
    }
   ],
   "source": [
    "x=True\n",
    "y=False\n",
    "print(x and y)"
   ]
  },
  {
   "cell_type": "code",
   "execution_count": 13,
   "id": "4b6f9864-cadb-415c-b659-4bfac5049585",
   "metadata": {},
   "outputs": [
    {
     "name": "stdout",
     "output_type": "stream",
     "text": [
      "False\n"
     ]
    }
   ],
   "source": [
    "x=True\n",
    "y=False\n",
    "print(x and y)"
   ]
  },
  {
   "cell_type": "code",
   "execution_count": 14,
   "id": "ec616f81-bb21-4cd1-a840-d7ab0efa183f",
   "metadata": {},
   "outputs": [
    {
     "name": "stdout",
     "output_type": "stream",
     "text": [
      "True\n"
     ]
    }
   ],
   "source": [
    "x=True\n",
    "y=False\n",
    "print(x or y)"
   ]
  },
  {
   "cell_type": "code",
   "execution_count": 15,
   "id": "ed48d789-e497-4644-9257-0d6354f63100",
   "metadata": {},
   "outputs": [
    {
     "name": "stdout",
     "output_type": "stream",
     "text": [
      "False\n"
     ]
    }
   ],
   "source": [
    "x=True\n",
    "print(not x)"
   ]
  },
  {
   "cell_type": "markdown",
   "id": "a4abed84-cbf6-4641-8320-c54e6d0ba557",
   "metadata": {},
   "source": [
    "# pratice question "
   ]
  },
  {
   "cell_type": "markdown",
   "id": "74825cd4-f282-4f77-8bdd-f9470f45ed4a",
   "metadata": {},
   "source": [
    "# Q1 You have a data containing two record: \"Quantity\" and \"Price per Unit\". How would you use arithmetic operators to calculate the total cost for each item, also calculate the total cost? product 1, Quantity-5, Price per Unit Rs 250 product 2, Quantity 25, Price per Unit - Rs 656 product Quantity 34, Price per Unit - Rs 274"
   ]
  },
  {
   "cell_type": "code",
   "execution_count": 25,
   "id": "f83bd724-1fee-4c36-b8bc-9778e4c02d22",
   "metadata": {},
   "outputs": [
    {
     "name": "stdout",
     "output_type": "stream",
     "text": [
      "th price unit of product 1 1250\n",
      "th price unit of product 2 16400\n",
      "th price unit of product 3 16400\n",
      "total price cost custmer pay 26966\n"
     ]
    }
   ],
   "source": [
    "product1=5*250\n",
    "product2=25*656\n",
    "product3=34*274\n",
    "print(\"th price unit of product 1\", product1)\n",
    "print(\"th price unit of product 2\", product2)\n",
    "print(\"th price unit of product 3\", product2)\n",
    "print(\"total price cost custmer pay\", product1+product2+product3)\n"
   ]
  },
  {
   "cell_type": "markdown",
   "id": "f4b06c73-a0bf-4b7e-9c2f-5bb15f01341a",
   "metadata": {},
   "source": [
    "# Q2 In a finance-based organization, the task is to calculate the simple interest given the principal amount, interest rate, and time period. The interest rate is 8%, the principal amount is Rs 15,00,000, and the time period is 3 years. Calculate the simple interest. Also, the threshold amount is Rs 1,20,000. Please check if the calculated interest is greater or less than the threshold amount."
   ]
  },
  {
   "cell_type": "code",
   "execution_count": 33,
   "id": "f2d40329-68f1-4542-b5d7-e030a9c10e3d",
   "metadata": {},
   "outputs": [
    {
     "name": "stdout",
     "output_type": "stream",
     "text": [
      "360000.0\n",
      "the simple interst is None\n"
     ]
    }
   ],
   "source": [
    "p=1500000\n",
    "r=8\n",
    "t=3\n",
    "threshold=120000\n",
    "\n",
    "SI=print((p*r*t)/100)\n",
    "print(\"the simple interst is\", SI)\n"
   ]
  },
  {
   "cell_type": "markdown",
   "id": "09670f1e-4ba8-478f-ac5e-a17353b96579",
   "metadata": {},
   "source": [
    "# Q3 write a python program to calculate the are of a circle with a radius of 12cm"
   ]
  },
  {
   "cell_type": "code",
   "execution_count": 39,
   "id": "89b22766-3281-4044-ab6c-5f5350d2a9ee",
   "metadata": {},
   "outputs": [
    {
     "ename": "SyntaxError",
     "evalue": "invalid decimal literal (2732186813.py, line 1)",
     "output_type": "error",
     "traceback": [
      "\u001b[1;36m  Cell \u001b[1;32mIn[39], line 1\u001b[1;36m\u001b[0m\n\u001b[1;33m    r=12cm\u001b[0m\n\u001b[1;37m       ^\u001b[0m\n\u001b[1;31mSyntaxError\u001b[0m\u001b[1;31m:\u001b[0m invalid decimal literal\n"
     ]
    }
   ],
   "source": [
    "r=12cm\n",
    "A=3.14*r**2\n",
    "print(A)"
   ]
  },
  {
   "cell_type": "code",
   "execution_count": null,
   "id": "3cd9cd2d-71fb-42fc-8036-f841a4925ea1",
   "metadata": {},
   "outputs": [],
   "source": []
  },
  {
   "cell_type": "code",
   "execution_count": null,
   "id": "b2df78ba-9116-44df-af6a-bf8429729eb8",
   "metadata": {},
   "outputs": [],
   "source": []
  }
 ],
 "metadata": {
  "kernelspec": {
   "display_name": "Python 3 (ipykernel)",
   "language": "python",
   "name": "python3"
  },
  "language_info": {
   "codemirror_mode": {
    "name": "ipython",
    "version": 3
   },
   "file_extension": ".py",
   "mimetype": "text/x-python",
   "name": "python",
   "nbconvert_exporter": "python",
   "pygments_lexer": "ipython3",
   "version": "3.12.7"
  }
 },
 "nbformat": 4,
 "nbformat_minor": 5
}
