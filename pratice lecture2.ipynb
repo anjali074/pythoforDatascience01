{
 "cells": [
  {
   "cell_type": "markdown",
   "id": "8397a88a-a31e-4689-88b4-299f6cd0d659",
   "metadata": {},
   "source": [
    "# Practice Questions\n",
    "\n",
    "# Question 1\n",
    "\n",
    "# Imagine you're working on a customer management system, and you have the first name and last name of a customer stored as separate variables. You're developing a customer management system for a retail store. In your database, you have the first name and last name of a customer stored as separate variables: first_name = \"John\" and last_name = \"Doe\". How would you concatenate these strings to form the full name \"John Doe\" for the customer's profile"
   ]
  },
  {
   "cell_type": "code",
   "execution_count": 2,
   "id": "c850f078-0b0a-414c-9be3-c2b939f2312e",
   "metadata": {},
   "outputs": [
    {
     "name": "stdout",
     "output_type": "stream",
     "text": [
      "john Doe\n"
     ]
    }
   ],
   "source": [
    "first_name=\"john\"\n",
    "Last_name=\"Doe\"\n",
    "full_name=first_name+\" \"+ Last_name\n",
    "print(full_name)"
   ]
  },
  {
   "cell_type": "markdown",
   "id": "e75ece75-9472-4147-84f8-30eb992724a0",
   "metadata": {},
   "source": [
    "# Question 2 \n",
    "# You have a variable x with the value 5. How would you reassign x to have the value 10?\n"
   ]
  },
  {
   "cell_type": "code",
   "execution_count": 4,
   "id": "f3144fe4-987b-4698-9fb6-6dcc8d98bed2",
   "metadata": {},
   "outputs": [
    {
     "name": "stdout",
     "output_type": "stream",
     "text": [
      "10\n"
     ]
    }
   ],
   "source": [
    "x=5\n",
    "x=10\n",
    "print(x)\n"
   ]
  },
  {
   "cell_type": "code",
   "execution_count": null,
   "id": "a1a08428-8282-4965-afe4-afb0ddb5c5fe",
   "metadata": {},
   "outputs": [],
   "source": []
  }
 ],
 "metadata": {
  "kernelspec": {
   "display_name": "Python 3 (ipykernel)",
   "language": "python",
   "name": "python3"
  },
  "language_info": {
   "codemirror_mode": {
    "name": "ipython",
    "version": 3
   },
   "file_extension": ".py",
   "mimetype": "text/x-python",
   "name": "python",
   "nbconvert_exporter": "python",
   "pygments_lexer": "ipython3",
   "version": "3.12.7"
  }
 },
 "nbformat": 4,
 "nbformat_minor": 5
}
